{
 "cells": [
  {
   "cell_type": "code",
   "execution_count": 3,
   "id": "a5d97a40",
   "metadata": {
    "execution": {
     "iopub.execute_input": "2022-01-05T00:47:54.533272Z",
     "iopub.status.busy": "2022-01-05T00:47:54.532904Z",
     "iopub.status.idle": "2022-01-05T00:47:54.539920Z",
     "shell.execute_reply": "2022-01-05T00:47:54.539075Z",
     "shell.execute_reply.started": "2022-01-05T00:47:54.533231Z"
    }
   },
   "outputs": [],
   "source": [
    "import time\n",
    "from pyspark.sql import SQLContext \n",
    "import pandas as pd \n",
    "sqlc=SQLContext(sc)\n",
    "import pyspark.sql.functions as F"
   ]
  },
  {
   "cell_type": "code",
   "execution_count": 4,
   "id": "44781bdd",
   "metadata": {
    "execution": {
     "iopub.execute_input": "2022-01-05T00:47:54.542035Z",
     "iopub.status.busy": "2022-01-05T00:47:54.541641Z",
     "iopub.status.idle": "2022-01-05T00:47:57.970814Z",
     "shell.execute_reply": "2022-01-05T00:47:57.969488Z",
     "shell.execute_reply.started": "2022-01-05T00:47:54.541994Z"
    }
   },
   "outputs": [
    {
     "name": "stdout",
     "output_type": "stream",
     "text": [
      "+--------------+--------------------+------+----------+\n",
      "|transaction_id|         probability|labels|department|\n",
      "+--------------+--------------------+------+----------+\n",
      "|    reyklbunen| 0.23845442869622116|     0|    Movies|\n",
      "|    ksynervphy|  0.2348082868085925|     0|     Books|\n",
      "|    ykfzmyueno|  0.1100195071557954|     1|     Music|\n",
      "|    vtpkodpvep| 0.17335459364750902|     0|     Music|\n",
      "|    gilxcwbtah| 0.08406845005147967|     0| Groceries|\n",
      "|    rrchjnlrhj|0.056143748415933385|     0|     Music|\n",
      "|    tzvoyyuyus|  0.2678786480001747|     0|     Books|\n",
      "|    jxqnqhsexa| 0.01748807224828015|     0|     Music|\n",
      "|    cvwbnowsqf| 0.07070184850990277|     0| Groceries|\n",
      "|    butduffcwx| 0.18884727519000788|     0|  Computer|\n",
      "|    dqkdsksghq| 0.21268067672277424|     0|     Books|\n",
      "|    njnwdbiqlu| 0.06954701800984273|     0|     Books|\n",
      "|    medtyriglc|  0.3001206826110941|     0|     Books|\n",
      "|    unlfhtxdqd| 0.13611929332126993|     0|    Movies|\n",
      "|    icdwnlruwo|  0.4412109490463568|     0|    Movies|\n",
      "|    ijfpbxmljk|  0.5770530293057566|     0| Groceries|\n",
      "|    bjfxmdlepi| 0.16806543243302113|     0|    Movies|\n",
      "|    axavyshnfq|  0.2299366458228469|     0|  Computer|\n",
      "|    dadzdbzixl| 0.13195573636792898|     1|  Computer|\n",
      "|    xpatrizuvv|  0.1148456381735682|     0|    Movies|\n",
      "+--------------+--------------------+------+----------+\n",
      "only showing top 20 rows\n",
      "\n"
     ]
    }
   ],
   "source": [
    "df = sqlContext.createDataFrame(pd.read_csv('01_precision_recall.csv',encoding='utf-8'))\n",
    "df.show()\n",
    "df.write.saveAsTable('metro_ca_analyst_tmp.di_v1', mode='overwrite')"
   ]
  },
  {
   "cell_type": "markdown",
   "id": "75a12f0d",
   "metadata": {},
   "source": [
    "/* Precision-Recall\n",
    "\n",
    "Instruction:\n",
    "\n",
    "Please run the CREATE TABLE and COPY commands below that will create the data tables\n",
    "for this problem. Note that, in the COPY command, you will need to specify the directory \n",
    "where your data folder is located. \n",
    "\n",
    "For instance, if your SQL course folder is located in the home directory, then\n",
    "set the path as /Home/product_sql/find_median/user_creation.csv.\n",
    "\n",
    "Once your data tables are created, you are ready to solve the problem!\n",
    "\n",
    "*/\n",
    "\n",
    "CREATE TABLE precision_recall (\n",
    "\ttransaction_id VARCHAR,\n",
    "\tprobability FLOAT,\n",
    "\tlabels INTEGER,\n",
    "\tdepartment VARCHAR \n",
    "); \n",
    "\n",
    "\n",
    "COPY precision_recall\n",
    "FROM '<Path to product_sql folder>/product_sql/precision_recall/precision_recall.csv' \n",
    "DELIMITER ',' \n",
    "CSV HEADER;\n",
    "\n",
    "/*\n",
    "\n",
    "Difficulty: Medium\n",
    "Duration: 15 Minutes"
   ]
  },
  {
   "cell_type": "markdown",
   "id": "f9ade658",
   "metadata": {},
   "source": [
    "Problem:\n",
    "\n",
    "The precision_recall table contains transaction_id, probability, labels and department.\n",
    "The probability column contains the probabilty score from a classification model, which \n",
    "is in the range of [0.0, 1.0]. The labels contains an integer value of 0, indicating no fraud,\n",
    "and 1, indicating fraud. Assume no duplication or missingness in the table. \n",
    "\n",
    "Address these two questions:\n",
    "\n",
    "#1. Given that a transaction with probability greater than 0.70 is predicted as fraud, \n",
    "\tcalculate the precision and recall.\n",
    "#2. Given that a transaction with probability greater than 0.70 is predicted as fraud, \n",
    "\tcalculate the precision and recall per department. Then, sort it by precision in a\n",
    "\tdescending order.\n",
    "*/\n",
    "\n",
    "\n",
    "-- Write Your Solution Below"
   ]
  },
  {
   "cell_type": "code",
   "execution_count": 5,
   "id": "259c2250",
   "metadata": {
    "execution": {
     "iopub.execute_input": "2022-01-05T01:02:59.708669Z",
     "iopub.status.busy": "2022-01-05T01:02:59.708275Z",
     "iopub.status.idle": "2022-01-05T01:03:08.338085Z",
     "shell.execute_reply": "2022-01-05T01:03:08.336916Z",
     "shell.execute_reply.started": "2022-01-05T01:02:59.708638Z"
    }
   },
   "outputs": [
    {
     "name": "stdout",
     "output_type": "stream",
     "text": [
      "+------------------+------------------+\n",
      "|         precision|            recall|\n",
      "+------------------+------------------+\n",
      "|0.0434782608695652|0.0272727272727273|\n",
      "+------------------+------------------+\n",
      "\n"
     ]
    }
   ],
   "source": [
    "\n",
    "df =sqlc.sql(\"\"\"\n",
    "WITH Prediction AS (\n",
    "SELECT\n",
    "CASE WHEN probability > 0.7 THEN 1 ELSE 0 END AS prediction,\n",
    "labels\n",
    "FROM metro_ca_analyst_tmp.di_v1\n",
    "),\n",
    "CorrectPrediction AS (\n",
    "SELECT\n",
    "prediction,\n",
    "labels,\n",
    "CASE WHEN prediction = 1 AND labels = 1 THEN 1 ELSE 0 END AS correct_prediction\n",
    "FROM Prediction\n",
    ")\n",
    "SELECT\n",
    "SUM(correct_prediction) * 1.0 / SUM(prediction) AS precision,\n",
    "SUM(correct_prediction) * 1.0 / SUM(labels) AS recall\n",
    "FROM CorrectPrediction\n",
    "\"\"\")\n",
    "\n",
    "df.show()\n",
    "\n",
    "# df.write.saveAsTable('metro_ca_analyst_tmp.<>', mode='overwrite')"
   ]
  },
  {
   "cell_type": "code",
   "execution_count": null,
   "id": "cd73720c",
   "metadata": {},
   "outputs": [],
   "source": []
  },
  {
   "cell_type": "code",
   "execution_count": null,
   "id": "a6e4c8c1",
   "metadata": {},
   "outputs": [],
   "source": []
  },
  {
   "cell_type": "code",
   "execution_count": null,
   "id": "49be3854",
   "metadata": {},
   "outputs": [],
   "source": []
  }
 ],
 "metadata": {
  "kernelspec": {
   "display_name": "spark-2.4-default",
   "language": "python",
   "name": "py3-spark-2.4-kernel-default"
  },
  "language_info": {
   "codemirror_mode": {
    "name": "ipython",
    "version": 3
   },
   "file_extension": ".py",
   "mimetype": "text/x-python",
   "name": "python",
   "nbconvert_exporter": "python",
   "pygments_lexer": "ipython3",
   "version": "3.6.13"
  }
 },
 "nbformat": 4,
 "nbformat_minor": 5
}
